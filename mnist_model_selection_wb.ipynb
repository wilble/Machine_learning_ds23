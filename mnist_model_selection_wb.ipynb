{
 "cells": [
  {
   "cell_type": "markdown",
   "id": "38e43d6f",
   "metadata": {},
   "source": [
    "# MNIST - Ensemble Learning\n",
    "In this code exercise we are going to practice on creating different models. "
   ]
  },
  {
   "cell_type": "code",
   "execution_count": 1,
   "id": "62a138b7",
   "metadata": {},
   "outputs": [],
   "source": [
    "import numpy as np\n",
    "import matplotlib.pyplot as plt\n",
    "\n",
    "from sklearn.datasets import fetch_openml\n",
    "from sklearn.preprocessing import StandardScaler\n",
    "from sklearn.metrics import accuracy_score\n",
    "from sklearn.model_selection import train_test_split\n",
    "from sklearn.model_selection import RandomizedSearchCV, GridSearchCV\n",
    "from sklearn.neighbors import KNeighborsClassifier\n",
    "from sklearn.ensemble import RandomForestClassifier\n",
    "from sklearn.svm import SVC\n",
    "import joblib\n",
    "np.random.seed(42)"
   ]
  },
  {
   "cell_type": "code",
   "execution_count": 2,
   "id": "6a314e82",
   "metadata": {},
   "outputs": [
    {
     "name": "stderr",
     "output_type": "stream",
     "text": [
      "C:\\Users\\Willi\\anaconda3\\Lib\\site-packages\\sklearn\\datasets\\_openml.py:1002: FutureWarning: The default value of `parser` will change from `'liac-arff'` to `'auto'` in 1.4. You can set `parser='auto'` to silence this warning. Therefore, an `ImportError` will be raised from 1.4 if the dataset is dense and pandas is not installed. Note that the pandas parser may return different data types. See the Notes Section in fetch_openml's API doc for details.\n",
      "  warn(\n"
     ]
    }
   ],
   "source": [
    "mnist = fetch_openml('mnist_784', version=1, cache=True, as_frame=False)\n",
    "\n",
    "X = mnist[\"data\"]\n",
    "y = mnist[\"target\"].astype(np.uint8)\n",
    "\n",
    "# Taking less data to speed up training. \n",
    "X_train_random = X[:5000]\n",
    "y_train_random = y[:5000]\n",
    "X_val_random = X[5000:6000]\n",
    "y_val_random = y[5000:6000]\n"
   ]
  },
  {
   "cell_type": "code",
   "execution_count": 3,
   "id": "1772e045",
   "metadata": {},
   "outputs": [],
   "source": [
    "scaler = StandardScaler()\n",
    "X_random_train_scaled = scaler.fit_transform(X_train_random)\n",
    "X_random_val_scaled = scaler.transform(X_val_random)"
   ]
  },
  {
   "cell_type": "code",
   "execution_count": 4,
   "id": "14e0aecb",
   "metadata": {},
   "outputs": [],
   "source": [
    "knn = KNeighborsClassifier()\n",
    "svc = SVC(kernel='linear')\n",
    "random_forest = RandomForestClassifier()\n",
    "\n",
    "param_dist_knn_rcv = {\n",
    "    'n_neighbors': range(1, 21),\n",
    "    'weights': ['uniform', 'distance'],\n",
    "    'algorithm': ['auto', 'ball_tree', 'kd_tree', 'brute'],\n",
    "    'p': [1, 2]\n",
    "}\n",
    "\n",
    "param_dist_svc_rcv = {\n",
    "    'C': np.logspace(-1, 1, num=10),\n",
    "}\n",
    "\n",
    "param_dist_random_forest_rcv = {\n",
    "    'n_estimators': [int(x) for x in np.linspace(start=700, stop=1400, num=20)],\n",
    "    'max_features': ['sqrt', 'log2', None],\n",
    "    'max_depth': [int(x) for x in np.linspace(10, 50, num=5)] + [None],\n",
    "    'min_samples_split': [2, 5],\n",
    "    'min_samples_leaf': [1, 2],\n",
    "    'bootstrap': [True, False]\n",
    "}"
   ]
  },
  {
   "cell_type": "code",
   "execution_count": 5,
   "id": "3d7037eb",
   "metadata": {},
   "outputs": [
    {
     "name": "stdout",
     "output_type": "stream",
     "text": [
      "Fitting 5 folds for each of 10 candidates, totalling 50 fits\n",
      "Best hyperparameters for KNeighborsClassifier:  {'weights': 'distance', 'p': 1, 'n_neighbors': 3, 'algorithm': 'auto'}\n",
      "Best accuracy for KNeighborsClassifier: 0.9168\n"
     ]
    }
   ],
   "source": [
    "knn_random_search = RandomizedSearchCV(knn, param_distributions=param_dist_knn_rcv, n_iter=10, cv=5, verbose=2, random_state=42, n_jobs=-1)\n",
    "knn_random_search.fit(X_random_train_scaled, y_train_random)\n",
    "\n",
    "print(\"Best hyperparameters for KNeighborsClassifier: \", knn_random_search.best_params_)\n",
    "print(\"Best accuracy for KNeighborsClassifier:\", knn_random_search.best_score_)"
   ]
  },
  {
   "cell_type": "code",
   "execution_count": 6,
   "id": "43b08eed",
   "metadata": {},
   "outputs": [
    {
     "name": "stdout",
     "output_type": "stream",
     "text": [
      "Fitting 5 folds for each of 10 candidates, totalling 50 fits\n",
      "Best hyperparameters for SVC:  {'C': 0.1}\n",
      "Best accuracy for SVC: 0.9062000000000001\n"
     ]
    }
   ],
   "source": [
    "svc_random_search = RandomizedSearchCV(svc, param_distributions=param_dist_svc_rcv, n_iter=10, cv=5, verbose=2, random_state=42, n_jobs=-1)\n",
    "svc_random_search.fit(X_random_train_scaled, y_train_random)\n",
    "\n",
    "print(\"Best hyperparameters for SVC: \", svc_random_search.best_params_)\n",
    "print(\"Best accuracy for SVC:\", svc_random_search.best_score_)"
   ]
  },
  {
   "cell_type": "code",
   "execution_count": 7,
   "id": "71a30b84",
   "metadata": {},
   "outputs": [
    {
     "name": "stdout",
     "output_type": "stream",
     "text": [
      "Fitting 5 folds for each of 10 candidates, totalling 50 fits\n",
      "Best hyperparameters for Random forest classifier:  {'n_estimators': 1031, 'min_samples_split': 2, 'min_samples_leaf': 1, 'max_features': 'sqrt', 'max_depth': 40, 'bootstrap': False}\n",
      "Best accuracy for Random forest classifier:  0.9436\n"
     ]
    }
   ],
   "source": [
    "rf_random_search = RandomizedSearchCV(random_forest, param_distributions=param_dist_random_forest_rcv, n_iter=10, cv=5, verbose=2, random_state=42, n_jobs=-1)\n",
    "rf_random_search.fit(X_train_random, y_train_random)\n",
    "\n",
    "print(f\"Best hyperparameters for Random forest classifier: \", rf_random_search.best_params_)\n",
    "print(f\"Best accuracy for Random forest classifier: \", rf_random_search.best_score_)"
   ]
  },
  {
   "cell_type": "code",
   "execution_count": 8,
   "id": "0e665109",
   "metadata": {},
   "outputs": [],
   "source": [
    "X_train_val, X_test, y_train_val, y_test = train_test_split(\n",
    "    X, y, test_size=10000, random_state=42)\n",
    "X_train, X_val, y_train, y_val = train_test_split(\n",
    "    X_train_val, y_train_val, test_size=10000, random_state=42)\n",
    "\n",
    "X_train_scaled = scaler.fit_transform(X_train)\n",
    "X_val_scaled = scaler.transform(X_val)\n",
    "X_test_scaled = scaler.transform(X_test)"
   ]
  },
  {
   "cell_type": "code",
   "execution_count": 9,
   "id": "3ef4d0f9",
   "metadata": {
    "scrolled": true
   },
   "outputs": [],
   "source": [
    "param_grid_knn = {\n",
    "    'n_neighbors': [1, 3, 5, 10],\n",
    "    'weights': ['uniform', 'distance'],\n",
    "    'algorithm': ['auto'],\n",
    "    'p': [1]\n",
    "}\n",
    "\n",
    "param_grid_svc = {\n",
    "    'C': [0.1,1,10],\n",
    "}\n",
    "\n",
    "param_grid_random_forest = {\n",
    "    'bootstrap': [False],\n",
    "    'max_depth': [35, 40, 45],\n",
    "    'max_features': ['sqrt'],\n",
    "    'min_samples_leaf': [1],\n",
    "    'min_samples_split': [2],\n",
    "    'n_estimators': [800, 1000, 1200]\n",
    "}"
   ]
  },
  {
   "cell_type": "code",
   "execution_count": 10,
   "id": "811a449d",
   "metadata": {},
   "outputs": [
    {
     "name": "stdout",
     "output_type": "stream",
     "text": [
      "Fitting 3 folds for each of 8 candidates, totalling 24 fits\n",
      "Best hyperparameters for KNN classifier:  {'algorithm': 'auto', 'n_neighbors': 3, 'p': 1, 'weights': 'distance'}\n",
      "Best accuracy for KNN classifier:  0.9556600491655113\n"
     ]
    }
   ],
   "source": [
    "search_knn = GridSearchCV(knn, param_grid=param_grid_knn, cv=3, verbose=2, n_jobs=-1)\n",
    "search_knn.fit(X_train_scaled, y_train)\n",
    "print(f\"Best hyperparameters for KNN classifier: \", search_knn.best_params_)\n",
    "print(f\"Best accuracy for KNN classifier: \", search_knn.best_score_)\n"
   ]
  },
  {
   "cell_type": "code",
   "execution_count": 11,
   "id": "8abb0a8e",
   "metadata": {},
   "outputs": [
    {
     "name": "stdout",
     "output_type": "stream",
     "text": [
      "Fitting 3 folds for each of 3 candidates, totalling 9 fits\n",
      "Best hyperparameters for SVC classifier:  {'C': 0.1}\n",
      "Best accuracy for SVC classifier:  0.9276800135424148\n"
     ]
    }
   ],
   "source": [
    "search_svc = GridSearchCV(svc, param_grid=param_grid_svc, cv=3, verbose=2, n_jobs=-1)\n",
    "search_svc.fit(X_train_scaled, y_train)\n",
    "print(f\"Best hyperparameters for SVC classifier: \", search_svc.best_params_)\n",
    "print(f\"Best accuracy for SVC classifier: \", search_svc.best_score_)"
   ]
  },
  {
   "cell_type": "code",
   "execution_count": 12,
   "id": "f68c857b",
   "metadata": {},
   "outputs": [
    {
     "name": "stdout",
     "output_type": "stream",
     "text": [
      "Fitting 3 folds for each of 9 candidates, totalling 27 fits\n",
      "Best hyperparameters for random forest classifier:  {'bootstrap': False, 'max_depth': 40, 'max_features': 'sqrt', 'min_samples_leaf': 1, 'min_samples_split': 2, 'n_estimators': 1000}\n",
      "Best accuracy for random forest classifier:  0.9705800423773115\n"
     ]
    }
   ],
   "source": [
    "search_forest = GridSearchCV(random_forest, param_grid=param_grid_random_forest, cv=3, verbose=2, n_jobs=-1)\n",
    "search_forest.fit(X_train, y_train)\n",
    "print(f\"Best hyperparameters for random forest classifier: \", search_forest.best_params_)\n",
    "print(f\"Best accuracy for random forest classifier: \", search_forest.best_score_)\n"
   ]
  },
  {
   "cell_type": "code",
   "execution_count": 13,
   "id": "ff70d854",
   "metadata": {},
   "outputs": [
    {
     "name": "stdout",
     "output_type": "stream",
     "text": [
      "Accuracy KNN val: 0.9597\n",
      "\n",
      "\n",
      "Accuracy SVC val: 0.9292\n",
      "\n",
      "\n",
      "Accuracy random forest val: 0.9745\n",
      "\n",
      "\n"
     ]
    }
   ],
   "source": [
    "y_val_pred_knn = search_knn.predict(X_val_scaled)\n",
    "accuracy_knn_val = accuracy_score(y_val, y_val_pred_knn)\n",
    "print(\"Accuracy KNN val:\", accuracy_knn_val)\n",
    "print (\"\\n\")\n",
    "\n",
    "y_val_pred_svc = search_svc.predict(X_val_scaled)\n",
    "accuracy_svc_val = accuracy_score(y_val, y_val_pred_svc)\n",
    "print(\"Accuracy SVC val:\", accuracy_svc_val)\n",
    "print (\"\\n\")\n",
    "\n",
    "y_val_pred_forest = search_forest.predict(X_val)\n",
    "accuracy_forest_val = accuracy_score(y_val, y_val_pred_forest)\n",
    "print(\"Accuracy random forest val:\", accuracy_forest_val)\n",
    "print (\"\\n\")"
   ]
  },
  {
   "cell_type": "code",
   "execution_count": 14,
   "id": "db41ec41",
   "metadata": {},
   "outputs": [
    {
     "name": "stdout",
     "output_type": "stream",
     "text": [
      "Accuracy random forest model: 0.971\n"
     ]
    }
   ],
   "source": [
    "test_model = search_forest.best_estimator_\n",
    "\n",
    "test_model.fit(X_train_val, y_train_val)\n",
    "\n",
    "y_pred_forest = test_model.predict(X_test)\n",
    "accuracy_forest = accuracy_score(y_test, y_pred_forest)\n",
    "print(\"Accuracy random forest model:\", accuracy_forest)\n",
    "\n",
    "\n",
    "\n"
   ]
  },
  {
   "cell_type": "code",
   "execution_count": 15,
   "id": "6887a8fc",
   "metadata": {},
   "outputs": [],
   "source": [
    "\n",
    "\n",
    "#joblib.dump(test_model, 'mnist_rf_model.joblib')"
   ]
  },
  {
   "cell_type": "code",
   "execution_count": null,
   "id": "4957d662",
   "metadata": {},
   "outputs": [],
   "source": []
  }
 ],
 "metadata": {
  "kernelspec": {
   "display_name": "Python 3 (ipykernel)",
   "language": "python",
   "name": "python3"
  },
  "language_info": {
   "codemirror_mode": {
    "name": "ipython",
    "version": 3
   },
   "file_extension": ".py",
   "mimetype": "text/x-python",
   "name": "python",
   "nbconvert_exporter": "python",
   "pygments_lexer": "ipython3",
   "version": "3.11.5"
  }
 },
 "nbformat": 4,
 "nbformat_minor": 5
}
